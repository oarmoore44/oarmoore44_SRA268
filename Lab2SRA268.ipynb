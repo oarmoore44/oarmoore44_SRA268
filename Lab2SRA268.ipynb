{
  "nbformat": 4,
  "nbformat_minor": 0,
  "metadata": {
    "colab": {
      "name": "Untitled0.ipynb",
      "provenance": [],
      "authorship_tag": "ABX9TyNqwyRgL5Xpsep6jcmkAi5V",
      "include_colab_link": true
    },
    "kernelspec": {
      "name": "python3",
      "display_name": "Python 3"
    }
  },
  "cells": [
    {
      "cell_type": "markdown",
      "metadata": {
        "id": "view-in-github",
        "colab_type": "text"
      },
      "source": [
        "<a href=\"https://colab.research.google.com/github/oarmoore44/oarmoore44_SRA268/blob/master/Lab2SRA268.ipynb\" target=\"_parent\"><img src=\"https://colab.research.google.com/assets/colab-badge.svg\" alt=\"Open In Colab\"/></a>"
      ]
    },
    {
      "cell_type": "markdown",
      "metadata": {
        "id": "1RsS9cZBhH8q",
        "colab_type": "text"
      },
      "source": [
        "#Graph Types"
      ]
    },
    {
      "cell_type": "markdown",
      "metadata": {
        "id": "hfyIbr9dhUlM",
        "colab_type": "text"
      },
      "source": [
        "# **Deviation**"
      ]
    },
    {
      "cell_type": "markdown",
      "metadata": {
        "id": "LdvtNOcgh1By",
        "colab_type": "text"
      },
      "source": [
        "![alt text](https://raw.githubusercontent.com/oarmoore44/oarmoore44_SRA268/master/images/Deviation.PNG)"
      ]
    },
    {
      "cell_type": "markdown",
      "metadata": {
        "id": "oi1ay4RDhlCV",
        "colab_type": "text"
      },
      "source": [
        "**What is this telling us?**"
      ]
    },
    {
      "cell_type": "markdown",
      "metadata": {
        "id": "mNzpJb8Nhp9b",
        "colab_type": "text"
      },
      "source": [
        "This is telling us the difference in win points between each year. Each point is based upon the prior year, hence the \"difference\" means either the new year gained more winning points or lost winning points. What this data tells us is that there is no discernable trend between win points gained or win points lost. In general, this chart is useful for showing variation with fixed points, including positive and negative values. Thus demonstrating how measures may change over time. As we can see, over the course of 3 decades, the difference in win points starting at a baseline of 0 changes drastically."
      ]
    },
    {
      "cell_type": "markdown",
      "metadata": {
        "id": "XbzH-f1QjUHw",
        "colab_type": "text"
      },
      "source": [
        "#**Correlation**"
      ]
    },
    {
      "cell_type": "markdown",
      "metadata": {
        "id": "UBNNiJijjd-N",
        "colab_type": "text"
      },
      "source": [
        "![alt text](https://raw.githubusercontent.com/oarmoore44/oarmoore44_SRA268/master/images/Correlation.PNG)"
      ]
    },
    {
      "cell_type": "markdown",
      "metadata": {
        "id": "3EkslEMzjYdx",
        "colab_type": "text"
      },
      "source": [
        "**What is this telling us?**"
      ]
    },
    {
      "cell_type": "markdown",
      "metadata": {
        "id": "LF4cBKwd333v",
        "colab_type": "text"
      },
      "source": [
        "The following graph demonstrates the correlation between winning points for the Alligators and the average winning points overall. We set the minimum at 0 so that each team would have to have at least some winning points. From there we can see that there is a positive correlation between average winning points overall and winning points by the Alligators. In other words, as all teams average points get larger, so do the average winning points for the alligators."
      ]
    },
    {
      "cell_type": "markdown",
      "metadata": {
        "id": "8N138pBUnlOj",
        "colab_type": "text"
      },
      "source": [
        "#**Ranking**"
      ]
    },
    {
      "cell_type": "markdown",
      "metadata": {
        "id": "vA3A15ohnoBI",
        "colab_type": "text"
      },
      "source": [
        "![alt text](https://raw.githubusercontent.com/oarmoore44/oarmoore44_SRA268/master/images/Ranking.PNG)"
      ]
    },
    {
      "cell_type": "markdown",
      "metadata": {
        "id": "4jpjCa0wntwk",
        "colab_type": "text"
      },
      "source": [
        "**What is this telling us?**"
      ]
    },
    {
      "cell_type": "markdown",
      "metadata": {
        "id": "QHNWJxMvnxOW",
        "colab_type": "text"
      },
      "source": [
        "Ranking demonstrates the large scale differences via visualization of the overall data. For instance, this graph shows us the overall wins for each school; the larger the circle is, the more wins the school has per season. This format is beneficial in graphically representing one measure of qualitative data and one measure of quantitative data which determines the size. Duke is much larger in comparison to Iowa; therefore, we can conclude that Duke has more wins per season."
      ]
    },
    {
      "cell_type": "markdown",
      "metadata": {
        "id": "KI9PaO1Xjc4x",
        "colab_type": "text"
      },
      "source": [
        "#**Deviation**"
      ]
    },
    {
      "cell_type": "markdown",
      "metadata": {
        "id": "iVLZud-9mgGz",
        "colab_type": "text"
      },
      "source": [
        "![alt text](https://raw.githubusercontent.com/oarmoore44/oarmoore44_SRA268/master/images/Distribution.PNG)"
      ]
    },
    {
      "cell_type": "markdown",
      "metadata": {
        "id": "kQBfL95imngn",
        "colab_type": "text"
      },
      "source": [
        "**What is this telling us?**"
      ]
    },
    {
      "cell_type": "markdown",
      "metadata": {
        "id": "6VTX3m9dmsE6",
        "colab_type": "text"
      },
      "source": [
        "This is demonstrating how top seeded teams perform based upon win points in the totality of the tournament. Because this is a distribution, this shows us how among a set of data, there is a general trend, and sometimes there is a lack thereof. A simple chart like this, helps us visualize the trend in win points based off of how teams are seeded at the beginning of the tournament. As a result, it demonstrates that teams that are higher seeded have a higher overall total of win points compared to the lower seeded teams."
      ]
    },
    {
      "cell_type": "markdown",
      "metadata": {
        "id": "HQ27XLJQnhDq",
        "colab_type": "text"
      },
      "source": [
        "#**Change Over Time**"
      ]
    },
    {
      "cell_type": "markdown",
      "metadata": {
        "id": "s0hAao32ujxZ",
        "colab_type": "text"
      },
      "source": [
        "![alt text](https://raw.githubusercontent.com/oarmoore44/oarmoore44_SRA268/master/images/ChangeOverTime.PNG)"
      ]
    },
    {
      "cell_type": "markdown",
      "metadata": {
        "id": "EHqB4k6Luryl",
        "colab_type": "text"
      },
      "source": [
        "**What is this telling us?**"
      ]
    },
    {
      "cell_type": "markdown",
      "metadata": {
        "id": "VzPkaxWhuvvT",
        "colab_type": "text"
      },
      "source": [
        "This line graph shows us the win points of the Fighting Illini with any given year between 1984 and 2012. However, as you can see, there is missing data for certain years where they did not qualify for March Madness. The highest scoring year for the Fighting Illini is the year 2000. We cannot see a discernable trend in this graph as the amount of data is fairly limited, and the Fighting Illini do not seem to have a clear trend in winning points over the course of the last three decades."
      ]
    },
    {
      "cell_type": "markdown",
      "metadata": {
        "id": "sB99DikVwM5w",
        "colab_type": "text"
      },
      "source": [
        "#**Magnitude**"
      ]
    },
    {
      "cell_type": "markdown",
      "metadata": {
        "id": "y92bQNRv2HNx",
        "colab_type": "text"
      },
      "source": [
        "![alt text](https://raw.githubusercontent.com/oarmoore44/oarmoore44_SRA268/master/images/Magnitude.PNG)"
      ]
    },
    {
      "cell_type": "markdown",
      "metadata": {
        "id": "LxUlq1uK2Y2D",
        "colab_type": "text"
      },
      "source": [
        "**What is this telling us?**"
      ]
    },
    {
      "cell_type": "markdown",
      "metadata": {
        "id": "qKh1wr392f6f",
        "colab_type": "text"
      },
      "source": [
        "This graph demonstrates the trend between the sum of a team's seeding and the total of their losing points of all seasons they participated in. For instance, the Bears have a higher overall seed from the extent of their basketball program entering March Madness, and they also have the least amount of losing points compared to the Badgers and the Fighting Illini. This provides a graphical representation of how a team is seeded compared to their overall sum of losing points and demonstrates a trend in the higher seeded team having a lower amount of losing points."
      ]
    },
    {
      "cell_type": "markdown",
      "metadata": {
        "id": "zdfe4uXu3pDi",
        "colab_type": "text"
      },
      "source": [
        "#**Part to Whole**"
      ]
    },
    {
      "cell_type": "markdown",
      "metadata": {
        "id": "d20ZOxdK3zk0",
        "colab_type": "text"
      },
      "source": [
        "![alt text](https://raw.githubusercontent.com/oarmoore44/oarmoore44_SRA268/master/images/PartToWhole.PNG)"
      ]
    },
    {
      "cell_type": "markdown",
      "metadata": {
        "id": "V0VeZYIc3vlu",
        "colab_type": "text"
      },
      "source": [
        "**What is this telling us?**"
      ]
    },
    {
      "cell_type": "markdown",
      "metadata": {
        "id": "i-Gj45Js3zA5",
        "colab_type": "text"
      },
      "source": [
        "This pie chart shows us the total winning points for these three teams. The larger the slice on the chart, the more winning points the corresponding team has. As you can see, the wildcats (red) have the highest amount of winning points compared to the Nittany Lions (orange) and the Bears (blue). The Part-To-Whole format of graph typically uses shape and form to better visualize how a cluster of quantitative data can be split among several different categories. In this case, team names. Pie charts are the most common form of Part-To-Whole charts, as they reduce a large amount of data into an easily comprehensible format."
      ]
    }
  ]
}