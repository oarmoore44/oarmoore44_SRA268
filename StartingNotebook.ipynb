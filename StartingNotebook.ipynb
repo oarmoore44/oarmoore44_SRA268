{
  "nbformat": 4,
  "nbformat_minor": 0,
  "metadata": {
    "colab": {
      "name": "StartingNotebook.ipynb",
      "provenance": [],
      "authorship_tag": "ABX9TyOz+IMYH4GbPNzOlZXAaoCQ",
      "include_colab_link": true
    },
    "kernelspec": {
      "name": "python3",
      "display_name": "Python 3"
    }
  },
  "cells": [
    {
      "cell_type": "markdown",
      "metadata": {
        "id": "view-in-github",
        "colab_type": "text"
      },
      "source": [
        "<a href=\"https://colab.research.google.com/github/oarmoore44/oarmoore44_SRA268/blob/master/StartingNotebook.ipynb\" target=\"_parent\"><img src=\"https://colab.research.google.com/assets/colab-badge.svg\" alt=\"Open In Colab\"/></a>"
      ]
    },
    {
      "cell_type": "code",
      "metadata": {
        "id": "GZITwOq24qtO",
        "colab_type": "code",
        "outputId": "7e982548-47d2-4554-ea36-89e01ce76d84",
        "colab": {
          "base_uri": "https://localhost:8080/",
          "height": 35
        }
      },
      "source": [
        "2+2"
      ],
      "execution_count": 2,
      "outputs": [
        {
          "output_type": "execute_result",
          "data": {
            "text/plain": [
              "4"
            ]
          },
          "metadata": {
            "tags": []
          },
          "execution_count": 2
        }
      ]
    },
    {
      "cell_type": "markdown",
      "metadata": {
        "id": "u7sY5N256Hem",
        "colab_type": "text"
      },
      "source": [
        "![MOON MAN](https://raw.githubusercontent.com/oarmoore44/oarmoore44_SRA268/master/images/Wallpaper9.jpg)"
      ]
    }
  ]
}