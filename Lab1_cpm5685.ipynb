{
  "nbformat": 4,
  "nbformat_minor": 0,
  "metadata": {
    "colab": {
      "name": "Lab1_cpm5685.ipynb",
      "provenance": [],
      "collapsed_sections": [],
      "authorship_tag": "ABX9TyNLx4ex/6ZGFVZ81FO+TbML",
      "include_colab_link": true
    },
    "kernelspec": {
      "name": "python3",
      "display_name": "Python 3"
    }
  },
  "cells": [
    {
      "cell_type": "markdown",
      "metadata": {
        "id": "view-in-github",
        "colab_type": "text"
      },
      "source": [
        "<a href=\"https://colab.research.google.com/github/oarmoore44/oarmoore44_SRA268/blob/master/Lab1_cpm5685.ipynb\" target=\"_parent\"><img src=\"https://colab.research.google.com/assets/colab-badge.svg\" alt=\"Open In Colab\"/></a>"
      ]
    },
    {
      "cell_type": "markdown",
      "metadata": {
        "id": "La9rIMXb9nlx",
        "colab_type": "text"
      },
      "source": [
        "# NOAA Data in State College (2018)"
      ]
    },
    {
      "cell_type": "markdown",
      "metadata": {
        "id": "newqPSGw-SE_",
        "colab_type": "text"
      },
      "source": [
        "# Outline"
      ]
    },
    {
      "cell_type": "markdown",
      "metadata": {
        "id": "t1ONE5hO-mx5",
        "colab_type": "text"
      },
      "source": [
        "In the following sketch, I will show a singular data point from each month in 2018. These data points will represent the hottest day of each month. Now, the purpose of this sketch is to show the hottest periods in 2018, with an average yearly high temperature included as well."
      ]
    },
    {
      "cell_type": "markdown",
      "metadata": {
        "id": "3hpG7tS1-YbG",
        "colab_type": "text"
      },
      "source": [
        "![alt text](https://raw.githubusercontent.com/oarmoore44/oarmoore44_SRA268/master/images/Lab1_image.png)# Sketch"
      ]
    },
    {
      "cell_type": "markdown",
      "metadata": {
        "id": "4TYm7R0q-bjx",
        "colab_type": "text"
      },
      "source": [
        "# Conclusion"
      ]
    },
    {
      "cell_type": "markdown",
      "metadata": {
        "id": "ZKjXFuo_Q7Df",
        "colab_type": "text"
      },
      "source": [
        "As most expect, the highest temperatures of the year were in the summer season. However, there are some irregularities that I didn't expect such as the spike in max temperature for the month of february. In conclusion, the sketch isn't very surprising; however, a more accurate reading may need to be an average high of each month to help minimize outliers."
      ]
    }
  ]
}